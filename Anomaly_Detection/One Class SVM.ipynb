{
 "cells": [
  {
   "cell_type": "markdown",
   "id": "e404800c",
   "metadata": {},
   "source": [
    "# Anomaly Detection - OCSVM.ipynb"
   ]
  },
  {
   "cell_type": "markdown",
   "id": "86d2bcd9",
   "metadata": {},
   "source": [
    "https://github.com/nitishkthakur/CompetitionNotebooks/blob/master/Anomaly%20Detection%20-%20OCSVM.ipynb"
   ]
  },
  {
   "cell_type": "code",
   "execution_count": null,
   "id": "9347a021",
   "metadata": {},
   "outputs": [],
   "source": [
    "import numpy as np\n",
    "import pandas as pd\n",
    "import matplotlib.pyplot as plt\n",
    "import seaborn as sns\n",
    "from sklearn import preprocessing, model_selection, linear_model, svm, ensemble, tree"
   ]
  },
  {
   "cell_type": "code",
   "execution_count": null,
   "id": "911306e1",
   "metadata": {},
   "outputs": [],
   "source": [
    "def scatter(data):\n",
    "    column1 = data.columns[0]\n",
    "    column2 = data.columns[1]\n",
    "    \n",
    "    data.plot.scatter(column1, column2, fontsize = 14, figsize = (10, 7), sharex = False)\n",
    "    plt.grid(linestyle = '--')\n",
    "    \n",
    "    plt.xlabel(column1, fontsize = 14, weight = 'bold')\n",
    "    plt.ylabel(column2, fontsize = 14, weight = 'bold')\n",
    "    return plt\n",
    "\n",
    "\n",
    "def plot_anomaly(data, predicted, cmap = 'Set1'):\n",
    "    data2 = data.copy()\n",
    "    data2['Predicted'] = predicted\n",
    "    \n",
    "    '''normal = data2.loc[data2['Predicted'] == 1, :]\n",
    "    anomalies = data2.loc[data2['Predicted'] == -1, :]'''\n",
    "    \n",
    "    # Make Scatterplot\n",
    "    column1 = data.columns[0]\n",
    "    column2 = data.columns[1]\n",
    "    \n",
    "    \n",
    "    ax = data2.plot.scatter(column1, column2, c = 'Predicted',cmap = cmap, fontsize = 14, figsize = (10, 7), sharex = False)\n",
    "    \n",
    "\n",
    "    plt.grid(linestyle = '--')\n",
    "    \n",
    "    plt.xlabel(column1, fontsize = 14, weight = 'bold')\n",
    "    plt.ylabel(column2, fontsize = 14, weight = 'bold')\n",
    "    return ax\n",
    "\n",
    "def plot_anomaly2(data, predicted, ax):\n",
    "    data2 = data.copy()\n",
    "    data2['Predicted'] = predicted\n",
    "    \n",
    "    normal = data2.loc[data2['Predicted'] == 1, :]\n",
    "    anomalies = data2.loc[data2['Predicted'] == -1, :]\n",
    "    \n",
    "    # Make Scatterplot\n",
    "    column1 = data.columns[0]\n",
    "    column2 = data.columns[1]\n",
    "    \n",
    "    \n",
    "    anomalies.plot.scatter(column1, column2, color = 'tomato', fontsize = 14,  sharex = False, ax=ax)\n",
    "    normal.plot.scatter(column1, column2, color = 'grey', fontsize = 14,  sharex = False, ax = ax)\n",
    "\n",
    "    #plt.grid(linestyle = '--')\n",
    "    \n",
    "    plt.xlabel(column1, fontsize = 14, weight = 'bold')\n",
    "    plt.ylabel(column2, fontsize = 14, weight = 'bold')\n",
    "    return ax"
   ]
  },
  {
   "cell_type": "markdown",
   "id": "b94be12e",
   "metadata": {},
   "source": [
    "# Make Mock Data 1"
   ]
  },
  {
   "cell_type": "code",
   "execution_count": null,
   "id": "e592f9ea",
   "metadata": {},
   "outputs": [],
   "source": [
    "center1 = np.array([10, 10])\n",
    "center2 = np.array([100, 100])\n",
    "n_samples = 150\n",
    "\n",
    "cluster1 = pd.DataFrame(center1 + np.random.normal(0, 6, (n_samples, 2)))\n",
    "cluster2 = pd.DataFrame(center2 + np.random.normal(0, 6, (n_samples, 2)))\n",
    "\n",
    "clean_data = pd.concat([cluster1, cluster2], axis = 0)\n",
    "clean_data.columns = ['Col 1', 'Col 2']\n",
    "\n",
    "# Visualize Clean Data\n",
    "scatter(clean_data)\n",
    "plt.show()\n",
    "\n",
    "print('Adding Outliers')\n",
    "\n",
    "outliers = pd.DataFrame([[60,60], [65, 70]], columns = ['Col 1', 'Col 2'])\n",
    "all_data = pd.concat([clean_data, outliers], axis = 0)\n",
    "\n",
    "scatter(all_data)\n",
    "plt.show()"
   ]
  },
  {
   "cell_type": "code",
   "execution_count": null,
   "id": "5b4f85d5",
   "metadata": {},
   "outputs": [],
   "source": []
  },
  {
   "cell_type": "code",
   "execution_count": null,
   "id": "a605fbd9",
   "metadata": {},
   "outputs": [],
   "source": []
  },
  {
   "cell_type": "code",
   "execution_count": null,
   "id": "98d06740",
   "metadata": {},
   "outputs": [],
   "source": []
  }
 ],
 "metadata": {
  "kernelspec": {
   "display_name": "Python 3 (ipykernel)",
   "language": "python",
   "name": "python3"
  },
  "language_info": {
   "codemirror_mode": {
    "name": "ipython",
    "version": 3
   },
   "file_extension": ".py",
   "mimetype": "text/x-python",
   "name": "python",
   "nbconvert_exporter": "python",
   "pygments_lexer": "ipython3",
   "version": "3.9.12"
  }
 },
 "nbformat": 4,
 "nbformat_minor": 5
}
