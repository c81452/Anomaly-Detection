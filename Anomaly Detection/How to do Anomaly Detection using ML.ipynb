{
 "cells": [
  {
   "cell_type": "markdown",
   "id": "b986d8a9",
   "metadata": {},
   "source": [
    "# How to do Anomaly Detection using ML in Python-\n",
    "- 12 Sep 2022"
   ]
  },
  {
   "cell_type": "markdown",
   "id": "71881e77",
   "metadata": {},
   "source": [
    "https://www.projectpro.io/article/anomaly-detection-using-machine-learning-in-python-with-example/555"
   ]
  },
  {
   "cell_type": "markdown",
   "id": "a103ee99",
   "metadata": {},
   "source": [
    "### 3. Support Vector Machine"
   ]
  },
  {
   "cell_type": "markdown",
   "id": "12406972",
   "metadata": {},
   "source": [
    "The SVM model is a supervised learning model mainly used for classification. Its ability to create subplanes by projecting data into alternate vector spaces has made ML an effective classification model. SVM works on only two classes for anomaly detection and trains the model to maximize the difference or distance between the two data groups in its projected vector space. It can also work on multi-class methods.\n",
    "\n",
    "Nevertheless, anomalies are determined by checking the points lying outside the range of a category. However, in the simplest case, one-class SVM is widely used. It uses SVM to determine if a data point belongs to the “normal” class or not – binary classification. \n",
    "\n",
    "So, SVM uses a non-linear function Ï• to project the training data X to a higher dimensional space. Now, since representation has changed, the vectors that were once next to each other might be far away, which means that they can be separated more easily using a hyperplane or, in the 2D space, something like a regression line. In fact, the hyperplane equation: wTx+b=0 is visibly similar to the linear regression equation mx+b=0. Read more about SVMs and one-class SVM here: Introduction to one-class Support Vector Machines.\n",
    "\n",
    "Let’s try implementing SVM for anomaly detection in Python using sklearn. First, we import the required libraries, including scikit-learn. We also fetch the Iris flower dataset since we wish to keep things simple for this demo."
   ]
  },
  {
   "cell_type": "markdown",
   "id": "3bb0ef54",
   "metadata": {},
   "source": [
    "http://rvlasveld.github.io/blog/2013/07/12/introduction-to-one-class-support-vector-machines/"
   ]
  },
  {
   "cell_type": "code",
   "execution_count": 3,
   "id": "8505c95f",
   "metadata": {},
   "outputs": [],
   "source": [
    "import numpy as np\n",
    "import pandas as pd\n",
    "import matplotlib.pyplot as plt\n",
    "from sklearn.svm import OneClassSVM"
   ]
  },
  {
   "cell_type": "code",
   "execution_count": 6,
   "id": "94b78baa",
   "metadata": {},
   "outputs": [
    {
     "data": {
      "text/html": [
       "<div>\n",
       "<style scoped>\n",
       "    .dataframe tbody tr th:only-of-type {\n",
       "        vertical-align: middle;\n",
       "    }\n",
       "\n",
       "    .dataframe tbody tr th {\n",
       "        vertical-align: top;\n",
       "    }\n",
       "\n",
       "    .dataframe thead th {\n",
       "        text-align: right;\n",
       "    }\n",
       "</style>\n",
       "<table border=\"1\" class=\"dataframe\">\n",
       "  <thead>\n",
       "    <tr style=\"text-align: right;\">\n",
       "      <th></th>\n",
       "      <th>sepal_length</th>\n",
       "      <th>sepal_width</th>\n",
       "    </tr>\n",
       "  </thead>\n",
       "  <tbody>\n",
       "    <tr>\n",
       "      <th>count</th>\n",
       "      <td>150.000000</td>\n",
       "      <td>150.000000</td>\n",
       "    </tr>\n",
       "    <tr>\n",
       "      <th>mean</th>\n",
       "      <td>5.843333</td>\n",
       "      <td>3.057333</td>\n",
       "    </tr>\n",
       "    <tr>\n",
       "      <th>std</th>\n",
       "      <td>0.828066</td>\n",
       "      <td>0.435866</td>\n",
       "    </tr>\n",
       "    <tr>\n",
       "      <th>min</th>\n",
       "      <td>4.300000</td>\n",
       "      <td>2.000000</td>\n",
       "    </tr>\n",
       "    <tr>\n",
       "      <th>25%</th>\n",
       "      <td>5.100000</td>\n",
       "      <td>2.800000</td>\n",
       "    </tr>\n",
       "    <tr>\n",
       "      <th>50%</th>\n",
       "      <td>5.800000</td>\n",
       "      <td>3.000000</td>\n",
       "    </tr>\n",
       "    <tr>\n",
       "      <th>75%</th>\n",
       "      <td>6.400000</td>\n",
       "      <td>3.300000</td>\n",
       "    </tr>\n",
       "    <tr>\n",
       "      <th>max</th>\n",
       "      <td>7.900000</td>\n",
       "      <td>4.400000</td>\n",
       "    </tr>\n",
       "  </tbody>\n",
       "</table>\n",
       "</div>"
      ],
      "text/plain": [
       "       sepal_length  sepal_width\n",
       "count    150.000000   150.000000\n",
       "mean       5.843333     3.057333\n",
       "std        0.828066     0.435866\n",
       "min        4.300000     2.000000\n",
       "25%        5.100000     2.800000\n",
       "50%        5.800000     3.000000\n",
       "75%        6.400000     3.300000\n",
       "max        7.900000     4.400000"
      ]
     },
     "execution_count": 6,
     "metadata": {},
     "output_type": "execute_result"
    }
   ],
   "source": [
    "data=pd.read_csv('iris.csv')\n",
    "df=data[['sepal_length', 'sepal_width']]\n",
    "df.describe()"
   ]
  },
  {
   "cell_type": "code",
   "execution_count": 8,
   "id": "bb427711",
   "metadata": {},
   "outputs": [],
   "source": [
    "model=OneClassSVM(kernel='rbf', gamma=0.01, nu=0.05).fit(df)\n",
    "y_pred=model.predict(df)"
   ]
  },
  {
   "cell_type": "markdown",
   "id": "1c06b5fd",
   "metadata": {},
   "source": [
    "Here, nu stands for the estimated proportion of outliers we expect in this data. We have taken the estimation to be 5% which means that around 5% of the data is anomalous.\n",
    "\n",
    "y_pred will assign all normal points to the class “1” and the outliers to “-1”."
   ]
  },
  {
   "cell_type": "code",
   "execution_count": 9,
   "id": "7e228088",
   "metadata": {},
   "outputs": [
    {
     "data": {
      "text/html": [
       "<div>\n",
       "<style scoped>\n",
       "    .dataframe tbody tr th:only-of-type {\n",
       "        vertical-align: middle;\n",
       "    }\n",
       "\n",
       "    .dataframe tbody tr th {\n",
       "        vertical-align: top;\n",
       "    }\n",
       "\n",
       "    .dataframe thead th {\n",
       "        text-align: right;\n",
       "    }\n",
       "</style>\n",
       "<table border=\"1\" class=\"dataframe\">\n",
       "  <thead>\n",
       "    <tr style=\"text-align: right;\">\n",
       "      <th></th>\n",
       "      <th>sepal_length</th>\n",
       "      <th>sepal_width</th>\n",
       "    </tr>\n",
       "  </thead>\n",
       "  <tbody>\n",
       "    <tr>\n",
       "      <th>13</th>\n",
       "      <td>4.3</td>\n",
       "      <td>3.0</td>\n",
       "    </tr>\n",
       "    <tr>\n",
       "      <th>41</th>\n",
       "      <td>4.5</td>\n",
       "      <td>2.3</td>\n",
       "    </tr>\n",
       "    <tr>\n",
       "      <th>117</th>\n",
       "      <td>7.7</td>\n",
       "      <td>3.8</td>\n",
       "    </tr>\n",
       "    <tr>\n",
       "      <th>118</th>\n",
       "      <td>7.7</td>\n",
       "      <td>2.6</td>\n",
       "    </tr>\n",
       "    <tr>\n",
       "      <th>131</th>\n",
       "      <td>7.9</td>\n",
       "      <td>3.8</td>\n",
       "    </tr>\n",
       "  </tbody>\n",
       "</table>\n",
       "</div>"
      ],
      "text/plain": [
       "     sepal_length  sepal_width\n",
       "13            4.3          3.0\n",
       "41            4.5          2.3\n",
       "117           7.7          3.8\n",
       "118           7.7          2.6\n",
       "131           7.9          3.8"
      ]
     },
     "execution_count": 9,
     "metadata": {},
     "output_type": "execute_result"
    }
   ],
   "source": [
    "anomaly_values=df.iloc[np.where(y_pred== -1)]\n",
    "anomaly_values"
   ]
  },
  {
   "cell_type": "code",
   "execution_count": 11,
   "id": "e2d648df",
   "metadata": {},
   "outputs": [
    {
     "data": {
      "text/plain": [
       "<matplotlib.collections.PathCollection at 0x14d655ee580>"
      ]
     },
     "execution_count": 11,
     "metadata": {},
     "output_type": "execute_result"
    },
    {
     "data": {
      "image/png": "[encoded data removed]",
      "text/plain": [
       "<Figure size 432x288 with 1 Axes>"
      ]
     },
     "metadata": {
      "needs_background": "light"
     },
     "output_type": "display_data"
    }
   ],
   "source": [
    "plt.scatter(df['sepal_length'], df['sepal_width'])\n",
    "plt.scatter(anomaly_values['sepal_length'],anomaly_values['sepal_width'], c='r' )"
   ]
  },
  {
   "cell_type": "code",
   "execution_count": null,
   "id": "a876146e",
   "metadata": {},
   "outputs": [],
   "source": [
    "plt.scatter(df['sepal_length'], df['sepal_width'])\n",
    "plt.scatter(anomaly_values['sepal_length'],anomaly_values['sepal_width'], c='r' )"
   ]
  },
  {
   "cell_type": "markdown",
   "id": "1fb1bc25",
   "metadata": {},
   "source": [
    "And here are the results after keeping nu=0.1, meaning that 10% of the data is anomalous."
   ]
  },
  {
   "cell_type": "code",
   "execution_count": 12,
   "id": "79e7214d",
   "metadata": {},
   "outputs": [],
   "source": [
    "model=OneClassSVM(kernel='rbf', gamma=0.01, nu=0.01).fit(df)\n",
    "y_pred=model.predict(df)"
   ]
  },
  {
   "cell_type": "code",
   "execution_count": 13,
   "id": "1f9a8d94",
   "metadata": {},
   "outputs": [
    {
     "data": {
      "text/html": [
       "<div>\n",
       "<style scoped>\n",
       "    .dataframe tbody tr th:only-of-type {\n",
       "        vertical-align: middle;\n",
       "    }\n",
       "\n",
       "    .dataframe tbody tr th {\n",
       "        vertical-align: top;\n",
       "    }\n",
       "\n",
       "    .dataframe thead th {\n",
       "        text-align: right;\n",
       "    }\n",
       "</style>\n",
       "<table border=\"1\" class=\"dataframe\">\n",
       "  <thead>\n",
       "    <tr style=\"text-align: right;\">\n",
       "      <th></th>\n",
       "      <th>sepal_length</th>\n",
       "      <th>sepal_width</th>\n",
       "    </tr>\n",
       "  </thead>\n",
       "  <tbody>\n",
       "    <tr>\n",
       "      <th>13</th>\n",
       "      <td>4.3</td>\n",
       "      <td>3.0</td>\n",
       "    </tr>\n",
       "  </tbody>\n",
       "</table>\n",
       "</div>"
      ],
      "text/plain": [
       "    sepal_length  sepal_width\n",
       "13           4.3          3.0"
      ]
     },
     "execution_count": 13,
     "metadata": {},
     "output_type": "execute_result"
    }
   ],
   "source": [
    "anomaly_values=df.iloc[np.where(y_pred== -1)]\n",
    "anomaly_values"
   ]
  },
  {
   "cell_type": "code",
   "execution_count": 14,
   "id": "497060d4",
   "metadata": {},
   "outputs": [
    {
     "data": {
      "text/plain": [
       "<matplotlib.collections.PathCollection at 0x14d65d49fa0>"
      ]
     },
     "execution_count": 14,
     "metadata": {},
     "output_type": "execute_result"
    },
    {
     "data": {
      "image/png": "[encoded data removed]",
      "text/plain": [
       "<Figure size 432x288 with 1 Axes>"
      ]
     },
     "metadata": {
      "needs_background": "light"
     },
     "output_type": "display_data"
    }
   ],
   "source": [
    "plt.scatter(df['sepal_length'], df['sepal_width'])\n",
    "plt.scatter(anomaly_values['sepal_length'],anomaly_values['sepal_width'], c='r' )"
   ]
  },
  {
   "cell_type": "code",
   "execution_count": 15,
   "id": "8db4ec0a",
   "metadata": {},
   "outputs": [],
   "source": [
    "model=OneClassSVM(kernel='rbf', gamma=0.01, nu=0.1).fit(df)\n",
    "y_pred=model.predict(df)"
   ]
  },
  {
   "cell_type": "code",
   "execution_count": 16,
   "id": "ad4aa0e0",
   "metadata": {},
   "outputs": [
    {
     "data": {
      "text/html": [
       "<div>\n",
       "<style scoped>\n",
       "    .dataframe tbody tr th:only-of-type {\n",
       "        vertical-align: middle;\n",
       "    }\n",
       "\n",
       "    .dataframe tbody tr th {\n",
       "        vertical-align: top;\n",
       "    }\n",
       "\n",
       "    .dataframe thead th {\n",
       "        text-align: right;\n",
       "    }\n",
       "</style>\n",
       "<table border=\"1\" class=\"dataframe\">\n",
       "  <thead>\n",
       "    <tr style=\"text-align: right;\">\n",
       "      <th></th>\n",
       "      <th>sepal_length</th>\n",
       "      <th>sepal_width</th>\n",
       "    </tr>\n",
       "  </thead>\n",
       "  <tbody>\n",
       "    <tr>\n",
       "      <th>8</th>\n",
       "      <td>4.4</td>\n",
       "      <td>2.9</td>\n",
       "    </tr>\n",
       "    <tr>\n",
       "      <th>13</th>\n",
       "      <td>4.3</td>\n",
       "      <td>3.0</td>\n",
       "    </tr>\n",
       "    <tr>\n",
       "      <th>15</th>\n",
       "      <td>5.7</td>\n",
       "      <td>4.4</td>\n",
       "    </tr>\n",
       "    <tr>\n",
       "      <th>22</th>\n",
       "      <td>4.6</td>\n",
       "      <td>3.6</td>\n",
       "    </tr>\n",
       "    <tr>\n",
       "      <th>38</th>\n",
       "      <td>4.4</td>\n",
       "      <td>3.0</td>\n",
       "    </tr>\n",
       "    <tr>\n",
       "      <th>41</th>\n",
       "      <td>4.5</td>\n",
       "      <td>2.3</td>\n",
       "    </tr>\n",
       "    <tr>\n",
       "      <th>42</th>\n",
       "      <td>4.4</td>\n",
       "      <td>3.2</td>\n",
       "    </tr>\n",
       "    <tr>\n",
       "      <th>105</th>\n",
       "      <td>7.6</td>\n",
       "      <td>3.0</td>\n",
       "    </tr>\n",
       "    <tr>\n",
       "      <th>117</th>\n",
       "      <td>7.7</td>\n",
       "      <td>3.8</td>\n",
       "    </tr>\n",
       "    <tr>\n",
       "      <th>118</th>\n",
       "      <td>7.7</td>\n",
       "      <td>2.6</td>\n",
       "    </tr>\n",
       "    <tr>\n",
       "      <th>122</th>\n",
       "      <td>7.7</td>\n",
       "      <td>2.8</td>\n",
       "    </tr>\n",
       "    <tr>\n",
       "      <th>130</th>\n",
       "      <td>7.4</td>\n",
       "      <td>2.8</td>\n",
       "    </tr>\n",
       "    <tr>\n",
       "      <th>131</th>\n",
       "      <td>7.9</td>\n",
       "      <td>3.8</td>\n",
       "    </tr>\n",
       "    <tr>\n",
       "      <th>135</th>\n",
       "      <td>7.7</td>\n",
       "      <td>3.0</td>\n",
       "    </tr>\n",
       "  </tbody>\n",
       "</table>\n",
       "</div>"
      ],
      "text/plain": [
       "     sepal_length  sepal_width\n",
       "8             4.4          2.9\n",
       "13            4.3          3.0\n",
       "15            5.7          4.4\n",
       "22            4.6          3.6\n",
       "38            4.4          3.0\n",
       "41            4.5          2.3\n",
       "42            4.4          3.2\n",
       "105           7.6          3.0\n",
       "117           7.7          3.8\n",
       "118           7.7          2.6\n",
       "122           7.7          2.8\n",
       "130           7.4          2.8\n",
       "131           7.9          3.8\n",
       "135           7.7          3.0"
      ]
     },
     "execution_count": 16,
     "metadata": {},
     "output_type": "execute_result"
    }
   ],
   "source": [
    "anomaly_values=df.iloc[np.where(y_pred== -1)]\n",
    "anomaly_values"
   ]
  },
  {
   "cell_type": "code",
   "execution_count": 17,
   "id": "174933e4",
   "metadata": {
    "scrolled": true
   },
   "outputs": [
    {
     "data": {
      "text/plain": [
       "<matplotlib.collections.PathCollection at 0x14d65dcb1f0>"
      ]
     },
     "execution_count": 17,
     "metadata": {},
     "output_type": "execute_result"
    },
    {
     "data": {
      "image/png": "[encoded data removed]",
      "text/plain": [
       "<Figure size 432x288 with 1 Axes>"
      ]
     },
     "metadata": {
      "needs_background": "light"
     },
     "output_type": "display_data"
    }
   ],
   "source": [
    "plt.scatter(df['sepal_length'], df['sepal_width'])\n",
    "plt.scatter(anomaly_values['sepal_length'],anomaly_values['sepal_width'], c='r' )"
   ]
  },
  {
   "cell_type": "code",
   "execution_count": null,
   "id": "3634dcb4",
   "metadata": {},
   "outputs": [],
   "source": []
  },
  {
   "cell_type": "markdown",
   "id": "64aa0836",
   "metadata": {},
   "source": [
    "https://www.datatechnotes.com/2020/05/introduction-to-anomaly-detection-methods.html"
   ]
  },
  {
   "cell_type": "markdown",
   "id": "70d5e3d8",
   "metadata": {},
   "source": [
    "### A Brief Explanation of 8 Anomaly Detection Methods with Python\n",
    "   Anomaly detection can be done by applying several methods in data analysis. I explained my previous tutorials on how to detect anomalies in a dataset by applying methods like Isolation Forest, Local Outlier Factor, Elliptical Envelope, One-Class SVM,  DBSCAN, Gaussian Mixture, K-means, and Kernel Density.\n",
    "\n",
    "   We applied the classes provided by Scikit-Learn API for these models. The sample dataset is created randomly by using create_blob() function and anomalies are detected by using each methods. Both data and the result are visualized in a plot to confirm visually. The Python source codes are provided for all tutorials."
   ]
  },
  {
   "cell_type": "markdown",
   "id": "6251e69b",
   "metadata": {},
   "source": [
    "I summarised the above mentioned anomaly detection methods in this tutorial. Here, we'll briefly address the following topics.\n",
    "    1. What is anomaly detection?\n",
    "    2. Isolation Forest method\n",
    "    3. Local Outlier Factor method\n",
    "    4. Elliptical Envelope method\n",
    "    5. One-Class SVM method\n",
    "    6. The DBSCAN method\n",
    "    7. Gaussian Mixture method\n",
    "    8. K-means method\n",
    "    9. Kernel Density method\n",
    " "
   ]
  },
  {
   "cell_type": "markdown",
   "id": "31343a2d",
   "metadata": {},
   "source": [
    "### What is Anomaly Detection?\n",
    "\n",
    "   Anomaly (or outlier, noise, novelty) is an element with the properties that differ from the majority of the observation data. Anomalies may define the errors, extremes, or abnormal cases in observation data. Identifying those anomaly samples in a dataset is called anomaly detection in machine learning and data analysis.\n",
    "   The clustering algorithms are one of the main methods used in this field. Grouping the samples in observation data by their density level can help to extract scarce or rare cases in a dataset. The below plot shows the detected anomalies in a given dataset. The threshold that defines the abnormality level of sample, can be defined according to data content and user's choice in analysis."
   ]
  },
  {
   "cell_type": "markdown",
   "id": "ec92e9c4",
   "metadata": {},
   "source": [
    "### Isolation Forest Method\n",
    "\n",
    "   Isolation forest is a learning algorithm for anomaly detection by isolating the instances in the dataset. The algorithm creates isolation trees (iTrees), holding the path length characteristics of the instance of the dataset, and Isolation Forest (iForest) applies no distance or density measures to detect anomalies.\n",
    "   The tutorial explains how to detect anomaly in the dataset by using the Isolation Forest method in Python.\n",
    "   Anomaly Detection with Isolation Forest in Python\n"
   ]
  },
  {
   "cell_type": "markdown",
   "id": "9b20ece2",
   "metadata": {},
   "source": [
    "https://www.datatechnotes.com/2020/03/anomaly-detection-with-isolation-forest-in-python.html"
   ]
  },
  {
   "cell_type": "markdown",
   "id": "28a9487d",
   "metadata": {},
   "source": [
    "### Local Outlier Factor Method\n",
    "\n",
    "   The Local Outlier Factor is an algorithm to detect anomalies in observation data. Measuring the local density score of each sample and weighting their scores are the main concept of the algorithm. By comparing the score of the sample to its neighbors, the algorithm defines the lower density elements as anomalies in data.\n",
    "   The tutorial explains how to detect anomaly in a dataset by using the Local Outlier Factor method in Python.\n",
    "   Anomaly Detection Example with Local Outlier Factor in Python\n"
   ]
  },
  {
   "cell_type": "markdown",
   "id": "d54361c6",
   "metadata": {},
   "source": [
    "https://www.datatechnotes.com/2020/04/anomaly-detection-with-local-outlier-factor-in-python.html"
   ]
  },
  {
   "cell_type": "markdown",
   "id": "30066bc2",
   "metadata": {},
   "source": [
    "### One-Class SVM Method\n",
    "\n",
    "  A One-class classification method is used to detect the outliers and anomalies in a dataset. Based on Support Vector Machines (SVM) evaluation, the One-class SVM applies a One-class classification method for novelty detection.\n",
    "   The tutorial briefly explains how to detect anomaly in a dataset by using the One-class SVM method in Python.\n",
    "    Anomaly Detection Example with One-Class SVM in Python\n"
   ]
  },
  {
   "cell_type": "markdown",
   "id": "8bda25b0",
   "metadata": {},
   "source": [
    "https://www.datatechnotes.com/2020/04/anomaly-detection-with-one-class-svm.html"
   ]
  },
  {
   "cell_type": "code",
   "execution_count": null,
   "id": "8a54c805",
   "metadata": {},
   "outputs": [],
   "source": []
  },
  {
   "cell_type": "code",
   "execution_count": null,
   "id": "da154834",
   "metadata": {},
   "outputs": [],
   "source": []
  },
  {
   "cell_type": "code",
   "execution_count": null,
   "id": "0aeea4be",
   "metadata": {},
   "outputs": [],
   "source": []
  },
  {
   "cell_type": "code",
   "execution_count": null,
   "id": "331974d2",
   "metadata": {},
   "outputs": [],
   "source": []
  },
  {
   "cell_type": "code",
   "execution_count": null,
   "id": "84c7ae55",
   "metadata": {},
   "outputs": [],
   "source": []
  },
  {
   "cell_type": "code",
   "execution_count": null,
   "id": "683a6d1d",
   "metadata": {},
   "outputs": [],
   "source": []
  },
  {
   "cell_type": "markdown",
   "id": "3365e2f0",
   "metadata": {},
   "source": [
    "### Anomaly Detection Machine Learning Python Example"
   ]
  },
  {
   "cell_type": "markdown",
   "id": "cc4a9a06",
   "metadata": {},
   "source": [
    "This example will use scikit-learn to implement one of the many algorithms we discovered today in Python. Let’s look at a classification problem of segmenting customers based on their credit card activity and history and using DBSCAN to identify outliers or anomalies in the data.\n",
    "\n",
    "First, fetch the data from Kaggle at Credit Card Dataset for Clustering. Next, we import the necessary libraries and explore the data."
   ]
  },
  {
   "cell_type": "markdown",
   "id": "d0eff6f8",
   "metadata": {},
   "source": [
    "https://www.kaggle.com/datasets/arjunbhasin2013/ccdata/code"
   ]
  },
  {
   "cell_type": "code",
   "execution_count": null,
   "id": "4a3abe92",
   "metadata": {},
   "outputs": [],
   "source": []
  },
  {
   "cell_type": "code",
   "execution_count": null,
   "id": "85dcec32",
   "metadata": {},
   "outputs": [],
   "source": []
  },
  {
   "cell_type": "code",
   "execution_count": null,
   "id": "17c51481",
   "metadata": {},
   "outputs": [],
   "source": []
  }
 ],
 "metadata": {
  "kernelspec": {
   "display_name": "Python 3 (ipykernel)",
   "language": "python",
   "name": "python3"
  },
  "language_info": {
   "codemirror_mode": {
    "name": "ipython",
    "version": 3
   },
   "file_extension": ".py",
   "mimetype": "text/x-python",
   "name": "python",
   "nbconvert_exporter": "python",
   "pygments_lexer": "ipython3",
   "version": "3.9.12"
  }
 },
 "nbformat": 4,
 "nbformat_minor": 5
}
